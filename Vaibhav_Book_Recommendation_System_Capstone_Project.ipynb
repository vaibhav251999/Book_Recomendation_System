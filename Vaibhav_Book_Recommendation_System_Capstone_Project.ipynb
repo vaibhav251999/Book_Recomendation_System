{
  "nbformat": 4,
  "nbformat_minor": 0,
  "metadata": {
    "colab": {
      "private_outputs": true,
      "provenance": [],
      "collapsed_sections": [
        "vncDsAP0Gaoa",
        "FJNUwmbgGyua",
        "w6K7xa23Elo4",
        "yQaldy8SH6Dl",
        "mDgbUHAGgjLW",
        "O_i_v8NEhb9l",
        "HhfV-JJviCcP",
        "Y3lxredqlCYt",
        "3RnN4peoiCZX",
        "x71ZqKXriCWQ",
        "7hBIi_osiCS2",
        "JlHwYmJAmNHm",
        "35m5QtbWiB9F",
        "PoPl-ycgm1ru",
        "H0kj-8xxnORC",
        "nA9Y7ga8ng1Z",
        "PBTbrJXOngz2",
        "u3PMJOP6ngxN",
        "dauF4eBmngu3",
        "bKJF3rekwFvQ",
        "MSa1f5Uengrz",
        "GF8Ens_Soomf",
        "0wOQAZs5pc--",
        "K5QZ13OEpz2H",
        "lQ7QKXXCp7Bj",
        "448CDAPjqfQr",
        "KSlN3yHqYklG",
        "t6dVpIINYklI",
        "ijmpgYnKYklI",
        "-JiQyfWJYklI",
        "EM7whBJCYoAo",
        "fge-S5ZAYoAp",
        "85gYPyotYoAp",
        "RoGjAbkUYoAp",
        "4Of9eVA-YrdM",
        "iky9q4vBYrdO",
        "F6T5p64dYrdO",
        "y-Ehk30pYrdP",
        "bamQiAODYuh1",
        "QHF8YVU7Yuh3",
        "GwzvFGzlYuh3",
        "qYpmQ266Yuh3",
        "OH-pJp9IphqM",
        "bbFf2-_FphqN",
        "_ouA3fa0phqN",
        "Seke61FWphqN",
        "PIIx-8_IphqN",
        "t27r6nlMphqO",
        "r2jJGEOYphqO",
        "b0JNsNcRphqO",
        "BZR9WyysphqO",
        "jj7wYXLtphqO",
        "eZrbJ2SmphqO",
        "rFu4xreNphqO",
        "YJ55k-q6phqO",
        "gCFgpxoyphqP",
        "OVtJsKN_phqQ",
        "lssrdh5qphqQ",
        "U2RJ9gkRphqQ",
        "1M8mcRywphqQ",
        "tgIPom80phqQ",
        "JMzcOPDDphqR",
        "x-EpHcCOp1ci",
        "X_VqEhTip1ck",
        "8zGJKyg5p1ck",
        "PVzmfK_Ep1ck",
        "n3dbpmDWp1ck",
        "ylSl6qgtp1ck",
        "ZWILFDl5p1ck",
        "M7G43BXep1ck",
        "Ag9LCva-p1cl",
        "E6MkPsBcp1cl",
        "2cELzS2fp1cl",
        "3MPXvC8up1cl",
        "NC_X3p0fY2L0",
        "UV0SzAkaZNRQ",
        "YPEH6qLeZNRQ",
        "q29F0dvdveiT",
        "EXh0U9oCveiU",
        "22aHeOlLveiV",
        "g-ATYxFrGrvw",
        "Yfr_Vlr8HBkt",
        "8yEUt7NnHlrM",
        "tEA2Xm5dHt1r",
        "I79__PHVH19G",
        "Ou-I18pAyIpj",
        "fF3858GYyt-u",
        "4_0_7-oCpUZd",
        "hwyV_J3ipUZe",
        "3yB-zSqbpUZe",
        "dEUvejAfpUZe",
        "Fd15vwWVpUZf",
        "bn_IUdTipZyH",
        "49K5P_iCpZyH",
        "Nff-vKELpZyI",
        "kLW572S8pZyI",
        "dWbDXHzopZyI",
        "yLjJCtPM0KBk",
        "xiyOF9F70UgQ",
        "7wuGOrhz0itI",
        "id1riN9m0vUs",
        "578E2V7j08f6",
        "89xtkJwZ18nB",
        "67NQN5KX2AMe",
        "Iwf50b-R2tYG",
        "GMQiZwjn3iu7",
        "WVIkgGqN3qsr",
        "XkPnILGE3zoT",
        "Hlsf0x5436Go",
        "mT9DMSJo4nBL",
        "c49ITxTc407N",
        "OeJFEK0N496M",
        "9ExmJH0g5HBk",
        "cJNqERVU536h",
        "k5UmGsbsOxih",
        "T0VqWOYE6DLQ",
        "qBMux9mC6MCf",
        "-oLEiFgy-5Pf",
        "C74aWNz2AliB",
        "2DejudWSA-a0",
        "pEMng2IbBLp7",
        "rAdphbQ9Bhjc",
        "TNVZ9zx19K6k",
        "nqoHp30x9hH9",
        "rMDnDkt2B6du",
        "yiiVWRdJDDil",
        "1UUpS68QDMuG",
        "kexQrXU-DjzY",
        "T5CmagL3EC8N",
        "BhH2vgX9EjGr",
        "qjKvONjwE8ra",
        "P1XJ9OREExlT",
        "VFOzZv6IFROw",
        "TIqpNgepFxVj",
        "VfCC591jGiD4",
        "OB4l2ZhMeS1U",
        "ArJBuiUVfxKd",
        "4qY1EAkEfxKe",
        "PiV4Ypx8fxKe",
        "TfvqoZmBfxKf",
        "dJ2tPlVmpsJ0",
        "JWYfwnehpsJ1",
        "-jK_YjpMpsJ2",
        "HAih1iBOpsJ2",
        "zVGeBEFhpsJ2",
        "bmKjuQ-FpsJ3",
        "Fze-IPXLpx6K",
        "7AN1z2sKpx6M",
        "9PIHJqyupx6M",
        "_-qAgymDpx6N",
        "Z-hykwinpx6N",
        "h_CCil-SKHpo",
        "cBFFvTBNJzUa",
        "HvGl1hHyA_VK",
        "EyNgTHvd2WFk",
        "KH5McJBi2d8v",
        "iW_Lq9qf2h6X",
        "-Kee-DAl2viO",
        "gCX9965dhzqZ",
        "gIfDvo9L0UH2"
      ],
      "include_colab_link": true
    },
    "kernelspec": {
      "name": "python3",
      "display_name": "Python 3"
    },
    "language_info": {
      "name": "python"
    }
  },
  "cells": [
    {
      "cell_type": "markdown",
      "metadata": {
        "id": "view-in-github",
        "colab_type": "text"
      },
      "source": [
        "<a href=\"https://colab.research.google.com/github/vaibhav251999/Book_Recomendation_System/blob/main/Vaibhav_Book_Recommendation_System_Capstone_Project.ipynb\" target=\"_parent\"><img src=\"https://colab.research.google.com/assets/colab-badge.svg\" alt=\"Open In Colab\"/></a>"
      ]
    },
    {
      "cell_type": "markdown",
      "source": [
        "# **Project Name**    -  **Book Recommendation System**\n",
        "\n"
      ],
      "metadata": {
        "id": "vncDsAP0Gaoa"
      }
    },
    {
      "cell_type": "markdown",
      "source": [
        "##### **Project Type**    - Unsupervised\n",
        "##### **Contribution**    - Team\n",
        "##### **Team Member 1 -**Vaibhav Kumar Gupta\n",
        "##### **Team Member 2 -**Bhavik Verma\n",
        "##### **Team Member 3 -**Priyanka Pal\n",
        "##### **Team Member 4 -**Dil Khush Sharma\n",
        "##### **Team Member 5 -**Shayan Somanna"
      ],
      "metadata": {
        "id": "beRrZCGUAJYm"
      }
    },
    {
      "cell_type": "markdown",
      "source": [
        "# **Project Summary -**"
      ],
      "metadata": {
        "id": "FJNUwmbgGyua"
      }
    },
    {
      "cell_type": "markdown",
      "source": [
        "Write the summary here within 500-600 words."
      ],
      "metadata": {
        "id": "F6v_1wHtG2nS"
      }
    },
    {
      "cell_type": "markdown",
      "source": [
        "# **GitHub Link -**"
      ],
      "metadata": {
        "id": "w6K7xa23Elo4"
      }
    },
    {
      "cell_type": "markdown",
      "source": [
        "Provide your GitHub Link here."
      ],
      "metadata": {
        "id": "h1o69JH3Eqqn"
      }
    },
    {
      "cell_type": "markdown",
      "source": [
        "# **Problem Statement**\n"
      ],
      "metadata": {
        "id": "yQaldy8SH6Dl"
      }
    },
    {
      "cell_type": "markdown",
      "source": [
        "**Write Problem Statement Here.**"
      ],
      "metadata": {
        "id": "DpeJGUA3kjGy"
      }
    },
    {
      "cell_type": "markdown",
      "source": [
        "# **General Guidelines** : -  "
      ],
      "metadata": {
        "id": "mDgbUHAGgjLW"
      }
    },
    {
      "cell_type": "markdown",
      "source": [
        "1.   Well-structured, formatted, and commented code is required. \n",
        "2.   Exception Handling, Production Grade Code & Deployment Ready Code will be a plus. Those students will be awarded some additional credits. \n",
        "     \n",
        "     The additional credits will have advantages over other students during Star Student selection.\n",
        "       \n",
        "             [ Note: - Deployment Ready Code is defined as, the whole .ipynb notebook should be executable in one go\n",
        "                       without a single error logged. ]\n",
        "\n",
        "3.   Each and every logic should have proper comments.\n",
        "4. You may add as many number of charts you want. Make Sure for each and every chart the following format should be answered.\n",
        "        \n",
        "\n",
        "```\n",
        "# Chart visualization code\n",
        "```\n",
        "            \n",
        "\n",
        "*   Why did you pick the specific chart?\n",
        "*   What is/are the insight(s) found from the chart?\n",
        "* Will the gained insights help creating a positive business impact? \n",
        "Are there any insights that lead to negative growth? Justify with specific reason.\n",
        "\n",
        "5. You have to create at least 15 logical & meaningful charts having important insights.\n",
        "\n",
        "\n",
        "[ Hints : - Do the Vizualization in  a structured way while following \"UBM\" Rule. \n",
        "\n",
        "U - Univariate Analysis,\n",
        "\n",
        "B - Bivariate Analysis (Numerical - Categorical, Numerical - Numerical, Categorical - Categorical)\n",
        "\n",
        "M - Multivariate Analysis\n",
        " ]\n",
        "\n",
        "\n",
        "\n",
        "\n",
        "\n",
        "6. You may add more ml algorithms for model creation. Make sure for each and every algorithm, the following format should be answered.\n",
        "\n",
        "\n",
        "*   Explain the ML Model used and it's performance using Evaluation metric Score Chart.\n",
        "\n",
        "\n",
        "*   Cross- Validation & Hyperparameter Tuning\n",
        "\n",
        "*   Have you seen any improvement? Note down the improvement with updates Evaluation metric Score Chart.\n",
        "\n",
        "*   Explain each evaluation metric's indication towards business and the business impact pf the ML model used.\n",
        "\n",
        "\n",
        "\n",
        "\n",
        "\n",
        "\n",
        "\n",
        "\n",
        "\n",
        "\n",
        "\n",
        "\n",
        "\n",
        "\n",
        "\n",
        "\n",
        "\n",
        "\n"
      ],
      "metadata": {
        "id": "ZrxVaUj-hHfC"
      }
    },
    {
      "cell_type": "markdown",
      "source": [
        "# ***Let's Begin !***"
      ],
      "metadata": {
        "id": "O_i_v8NEhb9l"
      }
    },
    {
      "cell_type": "markdown",
      "source": [
        "## ***1. Know Your Data***"
      ],
      "metadata": {
        "id": "HhfV-JJviCcP"
      }
    },
    {
      "cell_type": "markdown",
      "source": [
        "### Import Libraries"
      ],
      "metadata": {
        "id": "Y3lxredqlCYt"
      }
    },
    {
      "cell_type": "markdown",
      "source": [
        "For implimentation of SVD and NMF techniques we require Surprise library"
      ],
      "metadata": {
        "id": "keQ6NdOuk7zQ"
      }
    },
    {
      "cell_type": "code",
      "source": [
        "pip install surprise"
      ],
      "metadata": {
        "id": "gnckZYjJk5q_"
      },
      "execution_count": null,
      "outputs": []
    },
    {
      "cell_type": "code",
      "source": [
        "# Import Libraries\n",
        "# for dealing with regular expression techniques\n",
        "import re\n",
        "import requests\n",
        "import random\n",
        "#for NLP related tasks\n",
        "from sklearn.feature_extraction.text import CountVectorizer\n",
        "import nltk\n",
        "\n",
        "# basic libraries\n",
        "import pandas as pd\n",
        "import numpy as np\n",
        "\n",
        "\n",
        "import seaborn as sns\n",
        "import warnings\n",
        "warnings.filterwarnings(\"ignore\")\n",
        "#for TF-IDF vectorization\n",
        "from sklearn.feature_extraction.text import TfidfVectorizer\n",
        "# for finding similarity\n",
        "from sklearn.metrics.pairwise import cosine_similarity\n",
        "\n",
        "import scipy\n",
        "import math\n",
        "import sklearn\n",
        "#for removing stopwords\n",
        "from nltk.corpus import stopwords\n",
        "from sklearn.model_selection import train_test_split\n",
        "#for SVD model\n",
        "from scipy.sparse.linalg import svds\n",
        "# for plotting graphs\n",
        "import matplotlib.pyplot as plt\n",
        "\n",
        "from surprise import Dataset, Reader\n",
        "from surprise import SVD, NMF\n",
        "from surprise.model_selection import cross_validate, train_test_split, GridSearchCV"
      ],
      "metadata": {
        "id": "M8Vqi-pPk-HR"
      },
      "execution_count": null,
      "outputs": []
    },
    {
      "cell_type": "markdown",
      "source": [
        "### Dataset Loading"
      ],
      "metadata": {
        "id": "3RnN4peoiCZX"
      }
    },
    {
      "cell_type": "code",
      "source": [
        "# Load Dataset\n",
        "# Import Google Drive\n",
        "from google.colab import drive\n",
        "drive.mount('/content/drive')"
      ],
      "metadata": {
        "id": "4CkvbW_SlZ_R"
      },
      "execution_count": null,
      "outputs": []
    },
    {
      "cell_type": "code",
      "source": [
        "# Load Dataset Vaibhav\n",
        "path_book='/content/drive/MyDrive/Almabetter/capstone projects/Book Recomender System/data_book_recommendation/Books.csv'\n",
        "df_books=pd.read_csv(path_book)\n",
        "\n",
        "path_rating='/content/drive/MyDrive/Almabetter/capstone projects/Book Recomender System/data_book_recommendation/Ratings.csv'\n",
        "df_ratings=pd.read_csv(path_rating)\n",
        "\n",
        "path_users='/content/drive/MyDrive/Almabetter/capstone projects/Book Recomender System/data_book_recommendation/Users.csv'\n",
        "df_users=pd.read_csv(path_users)"
      ],
      "metadata": {
        "id": "ZCfo7a1xpEPE"
      },
      "execution_count": null,
      "outputs": []
    },
    {
      "cell_type": "markdown",
      "source": [
        "### Dataset First View"
      ],
      "metadata": {
        "id": "x71ZqKXriCWQ"
      }
    },
    {
      "cell_type": "code",
      "source": [
        "# Dataset First Look\n",
        "df_books.head(3)"
      ],
      "metadata": {
        "id": "LWNFOSvLl09H"
      },
      "execution_count": null,
      "outputs": []
    },
    {
      "cell_type": "code",
      "source": [
        "df_ratings.head(3)"
      ],
      "metadata": {
        "id": "g5dsrvZeqJt1"
      },
      "execution_count": null,
      "outputs": []
    },
    {
      "cell_type": "code",
      "source": [
        "df_users.head(3)"
      ],
      "metadata": {
        "id": "7zPzSCD6qRr1"
      },
      "execution_count": null,
      "outputs": []
    },
    {
      "cell_type": "markdown",
      "source": [
        "### Dataset Rows & Columns count"
      ],
      "metadata": {
        "id": "7hBIi_osiCS2"
      }
    },
    {
      "cell_type": "code",
      "source": [
        "# Dataset Rows & Columns count\n",
        "\n",
        "print(f\"Books has {df_books.shape[0]} rows and {df_books.shape[1]} columns \" )\n",
        "print(f\"Rating has {df_ratings.shape[0]} rows and {df_ratings.shape[1]} columns \" )\n",
        "print(f\"Users has {df_users.shape[0]} rows and {df_users.shape[1]} columns \" )"
      ],
      "metadata": {
        "id": "Kllu7SJgmLij"
      },
      "execution_count": null,
      "outputs": []
    },
    {
      "cell_type": "markdown",
      "source": [
        "*  books have 271360 rows and 8 columns\n",
        "*  ratings has 1149780 rows and 3 columns\n",
        "*  Users has 278858 rows and 3 columns\n"
      ],
      "metadata": {
        "id": "T0c8qWV6qkve"
      }
    },
    {
      "cell_type": "markdown",
      "source": [
        "### Dataset Information"
      ],
      "metadata": {
        "id": "JlHwYmJAmNHm"
      }
    },
    {
      "cell_type": "code",
      "source": [
        "# Dataset Info\n",
        "df_books.info()\n"
      ],
      "metadata": {
        "id": "e9hRXRi6meOf"
      },
      "execution_count": null,
      "outputs": []
    },
    {
      "cell_type": "code",
      "source": [
        "df_ratings.info()"
      ],
      "metadata": {
        "id": "N8mdOf9u5cMP"
      },
      "execution_count": null,
      "outputs": []
    },
    {
      "cell_type": "code",
      "source": [
        "df_users.info()"
      ],
      "metadata": {
        "id": "zWH-4NbD5wLb"
      },
      "execution_count": null,
      "outputs": []
    },
    {
      "cell_type": "markdown",
      "source": [
        "#### Duplicate Values"
      ],
      "metadata": {
        "id": "35m5QtbWiB9F"
      }
    },
    {
      "cell_type": "code",
      "source": [
        "# Dataset Duplicate Value Count\n",
        "# Missing Values/Null Values Count\n",
        "print(\"Duplicate Values in BOOKS\" ,len(df_books[df_books.duplicated()]))\n",
        "print(\"Duplicate Values in RATINGS \",len(df_ratings[df_ratings.duplicated()]))\n",
        "print(\"Duplicate Values in USERS\",len(df_users[df_users.duplicated()]))"
      ],
      "metadata": {
        "id": "1sLdpKYkmox0"
      },
      "execution_count": null,
      "outputs": []
    },
    {
      "cell_type": "markdown",
      "source": [
        "#### Missing Values/Null Values"
      ],
      "metadata": {
        "id": "PoPl-ycgm1ru"
      }
    },
    {
      "cell_type": "code",
      "source": [
        "# Missing Values/Null Values Count\n",
        "print(\"NULL Values in BOOKS\" ,df_books.isnull().sum())\n",
        "print(\"NULL Values in RATINGS \",df_ratings.isnull().sum())\n",
        "print(\"NULL Values in USERS\",df_users.isnull().sum())"
      ],
      "metadata": {
        "id": "GgHWkxvamxVg"
      },
      "execution_count": null,
      "outputs": []
    },
    {
      "cell_type": "code",
      "source": [
        "# Visualizing the missing values\n",
        "plt.figure(figsize=(10,6))\n",
        "sns.displot(\n",
        "    data=df_books.isnull().melt(value_name=\"missing\"),\n",
        "    y=\"variable\",\n",
        "    hue=\"missing\",\n",
        "    multiple=\"fill\",\n",
        "    aspect=1.25\n",
        ")"
      ],
      "metadata": {
        "id": "3q5wnI3om9sJ"
      },
      "execution_count": null,
      "outputs": []
    },
    {
      "cell_type": "markdown",
      "source": [
        "Since the missing values are very less as compared to total number of instances ,therefore we are not able visualie the missing values . The number of missing values are 1,2 and 3 and total insatnces is 271360 so the proportion is 0.000011 hence it is negligible"
      ],
      "metadata": {
        "id": "nqVyadXhrXFf"
      }
    },
    {
      "cell_type": "markdown",
      "source": [
        "### What did you know about your dataset?"
      ],
      "metadata": {
        "id": "H0kj-8xxnORC"
      }
    },
    {
      "cell_type": "markdown",
      "source": [
        "*  There 271360 rows and 8 columns in Books Dataset \n",
        "\n",
        "*  There are  1149780 rows and 3 columns in Rating Dataset\n",
        "\n",
        "*  There are 278858 rows and 3 columns in Users Dataset\n",
        "\n",
        "*  There are no duplicate values in any of the dataset for Books ,Ratings and Users\n",
        "\n",
        "* There are very few (0.0011%) values which are missing for the columns Book_author , Publisher and Image_URL-L"
      ],
      "metadata": {
        "id": "gfoNAAC-nUe_"
      }
    },
    {
      "cell_type": "markdown",
      "source": [
        "## ***2. Understanding Your Variables***"
      ],
      "metadata": {
        "id": "nA9Y7ga8ng1Z"
      }
    },
    {
      "cell_type": "code",
      "source": [
        "# Dataset Columns\n",
        "df_books.columns"
      ],
      "metadata": {
        "id": "j7xfkqrt5Ag5"
      },
      "execution_count": null,
      "outputs": []
    },
    {
      "cell_type": "code",
      "source": [
        "df_ratings.columns"
      ],
      "metadata": {
        "id": "NC0LMF2H0agz"
      },
      "execution_count": null,
      "outputs": []
    },
    {
      "cell_type": "code",
      "source": [
        "df_users.columns"
      ],
      "metadata": {
        "id": "rHZ999T509Wd"
      },
      "execution_count": null,
      "outputs": []
    },
    {
      "cell_type": "code",
      "source": [
        "# Dataset Describe\n",
        "df_books.describe()"
      ],
      "metadata": {
        "id": "DnOaZdaE5Q5t"
      },
      "execution_count": null,
      "outputs": []
    },
    {
      "cell_type": "code",
      "source": [
        "df_ratings.describe()"
      ],
      "metadata": {
        "id": "kNY0ItLZ3G6r"
      },
      "execution_count": null,
      "outputs": []
    },
    {
      "cell_type": "code",
      "source": [
        "df_users.describe()"
      ],
      "metadata": {
        "id": "1ED4vZgr3NEj"
      },
      "execution_count": null,
      "outputs": []
    },
    {
      "cell_type": "markdown",
      "source": [
        "### Variables Description "
      ],
      "metadata": {
        "id": "PBTbrJXOngz2"
      }
    },
    {
      "cell_type": "markdown",
      "source": [
        "*  Books are identified by their respective **ISBN**. Moreover, some content-based information is given (**Book-Title, Book-Author, Year-Of-Publication, Publisher**) are obtained from Amazon Web Services. \n",
        "\n",
        "*  URLs linking to cover images are also given,It has basicaly three flovors of images (**Image-URL-S, Image-URL-M, Image-URL-L**), i.e., small, medium, large. These URLs point to the Amazon web site."
      ],
      "metadata": {
        "id": "nzeXYjvn9H22"
      }
    },
    {
      "cell_type": "markdown",
      "source": [
        "*  Users variables\n",
        "   *  The average age of the users of books reader is 34-35 \n",
        "*  Ratings variables\n",
        "   *  The average rating given by the user is 2.8669 out of 10\n",
        "   *  Range of rating is 0-10\n",
        "\n",
        "*  Books variables\n",
        "   *  There are total 102023 unique Authors listed in this dataset\n",
        "   *  Top publisher which has largest number of books listed in this dataset is Harlequin\n",
        "   *  There are 16807 unique publishers listed in this Dataset"
      ],
      "metadata": {
        "id": "aJV4KIxSnxay"
      }
    },
    {
      "cell_type": "markdown",
      "source": [
        "### Check Unique Values for each variable."
      ],
      "metadata": {
        "id": "u3PMJOP6ngxN"
      }
    },
    {
      "cell_type": "code",
      "source": [
        "# Check Unique Values for each variable.\n",
        "df_books.nunique()"
      ],
      "metadata": {
        "id": "zms12Yq5n-jE"
      },
      "execution_count": null,
      "outputs": []
    },
    {
      "cell_type": "code",
      "source": [
        "df_ratings.nunique()"
      ],
      "metadata": {
        "id": "XHwlw_VO6ROs"
      },
      "execution_count": null,
      "outputs": []
    },
    {
      "cell_type": "code",
      "source": [
        "df_users.nunique()"
      ],
      "metadata": {
        "id": "iQSkNCVt6XGj"
      },
      "execution_count": null,
      "outputs": []
    },
    {
      "cell_type": "markdown",
      "source": [
        "## 3. ***Data Wrangling***"
      ],
      "metadata": {
        "id": "dauF4eBmngu3"
      }
    },
    {
      "cell_type": "markdown",
      "source": [
        "### Data Wrangling Code"
      ],
      "metadata": {
        "id": "bKJF3rekwFvQ"
      }
    },
    {
      "cell_type": "code",
      "source": [
        "# Write your code to make your dataset analysis ready.\n",
        "# first we have to merge the datsets \n",
        "df_books_rating=df_books.merge(df_ratings,on=\"ISBN\")\n",
        "df_books_rating.head(3)"
      ],
      "metadata": {
        "id": "wk-9a2fpoLcV"
      },
      "execution_count": null,
      "outputs": []
    },
    {
      "cell_type": "markdown",
      "source": [
        "*  **Checking the percentage of books which have  0 rating**"
      ],
      "metadata": {
        "id": "AQ9lq9RaIYXZ"
      }
    },
    {
      "cell_type": "code",
      "source": [
        "print(f'there are {(len(df_books_rating[df_books_rating[\"Book-Rating\"]==0])/len(df_books_rating))*100} of the books which have 0 rating' )"
      ],
      "metadata": {
        "id": "bDANyx_8Fy-H"
      },
      "execution_count": null,
      "outputs": []
    },
    {
      "cell_type": "markdown",
      "source": [
        "*  **Droping some unnecessary columns and data**"
      ],
      "metadata": {
        "id": "zJNCi7ZIInGR"
      }
    },
    {
      "cell_type": "code",
      "source": [
        "df_books_rating_copy=df_books_rating.copy()\n",
        "# removing null values\n",
        "df_books_rating_copy.dropna(inplace=True)\n",
        "df_books_rating_copy.reset_index(drop=True,inplace=True)\n",
        "\n",
        "\n",
        "# as the columns ISBN has no use for the analysis also Year-Of-publication\n",
        "# we can also remove the medium and small scale of a image link i.e Image-URL-S and Image-URL-M\n",
        "df_books_rating_copy.drop(columns=[\"ISBN\",\"Year-Of-Publication\",\"Image-URL-S\",\"Image-URL-M\"],axis=1,inplace=True)\n",
        "\n",
        "# we can also drop the book details where the ratings is 0 as it doesnt play any role recomendation system\n",
        "df_books_rating_copy.drop(index=df_books_rating_copy[df_books_rating_copy[\"Book-Rating\"]==0].index,inplace=True)\n",
        "\n",
        "df_books_rating_copy[\"Book-Title\"]=df_books_rating_copy[\"Book-Title\"].apply(lambda x: re.sub(\"[\\W_]+\",\" \",x).strip())\n",
        "df_books_rating_copy.head()"
      ],
      "metadata": {
        "id": "KDw_roS5991t"
      },
      "execution_count": null,
      "outputs": []
    },
    {
      "cell_type": "markdown",
      "source": [
        "## ***4. Data Vizualization, Storytelling & Experimenting with charts : Understand the relationships between variables***"
      ],
      "metadata": {
        "id": "GF8Ens_Soomf"
      }
    },
    {
      "cell_type": "markdown",
      "source": [
        "#### Chart - 1"
      ],
      "metadata": {
        "id": "0wOQAZs5pc--"
      }
    },
    {
      "cell_type": "markdown",
      "source": [
        "### **Top 20 author with number of books**"
      ],
      "metadata": {
        "id": "oIEKESxjiEhh"
      }
    },
    {
      "cell_type": "code",
      "source": [
        "\n",
        "# Chart - 1 visualization code\n",
        "plt.figure(figsize=(12,6))\n",
        "sns.countplot(y=\"Book-Author\",palette = 'Paired', data=df_books,order=df_books['Book-Author'].value_counts().index[0:20])\n",
        "plt.title(\"Top 20 author with number of books\")"
      ],
      "metadata": {
        "id": "7v_ESjsspbW7"
      },
      "execution_count": null,
      "outputs": []
    },
    {
      "cell_type": "markdown",
      "source": [
        "##### 1. Why did you pick the specific chart?"
      ],
      "metadata": {
        "id": "K5QZ13OEpz2H"
      }
    },
    {
      "cell_type": "markdown",
      "source": [
        "*  To get the top 20 Author with number of Books\n"
      ],
      "metadata": {
        "id": "XESiWehPqBRc"
      }
    },
    {
      "cell_type": "markdown",
      "source": [
        "##### 2. What is/are the insight(s) found from the chart?"
      ],
      "metadata": {
        "id": "lQ7QKXXCp7Bj"
      }
    },
    {
      "cell_type": "markdown",
      "source": [
        "* Based on this dataset Agatha Christie released maximums books .Followed by William Shakespeare and Stephen King are 2nd and 3rd most Authors who have relased maximum books."
      ],
      "metadata": {
        "id": "C_j1G7yiqdRP"
      }
    },
    {
      "cell_type": "markdown",
      "source": [
        "#### Chart - 2"
      ],
      "metadata": {
        "id": "KSlN3yHqYklG"
      }
    },
    {
      "cell_type": "code",
      "source": [
        "# Chart - 2 visualization code\n",
        "# plotting the rating column distribusion\n",
        "plt.figure(figsize=(12,8))\n",
        "sns.countplot(x=\"Book-Rating\", data=df_ratings)\n",
        "plt.title(\"Ratings\")"
      ],
      "metadata": {
        "id": "R4YgtaqtYklH"
      },
      "execution_count": null,
      "outputs": []
    },
    {
      "cell_type": "markdown",
      "source": [
        "##### 1. Why did you pick the specific chart?"
      ],
      "metadata": {
        "id": "t6dVpIINYklI"
      }
    },
    {
      "cell_type": "markdown",
      "source": [
        "* To study the distribustion of Rating"
      ],
      "metadata": {
        "id": "5aaW0BYyYklI"
      }
    },
    {
      "cell_type": "markdown",
      "source": [
        "##### 2. What is/are the insight(s) found from the chart?"
      ],
      "metadata": {
        "id": "ijmpgYnKYklI"
      }
    },
    {
      "cell_type": "markdown",
      "source": [
        "*  Most of the books have 0 rating . As might be most of the books were not read , or not recorded its ratings . So during the time of dataset preparation they might have explicitly filled with zeros\n",
        "\n",
        "\n",
        "* If we ignore this 0 ratings then 8 is the most common rating given by users out of 10"
      ],
      "metadata": {
        "id": "PSx9atu2YklI"
      }
    },
    {
      "cell_type": "markdown",
      "source": [
        "#### Chart - 3"
      ],
      "metadata": {
        "id": "EM7whBJCYoAo"
      }
    },
    {
      "cell_type": "markdown",
      "source": [
        "### **Top 10 Books with highest nuumber of ratings**"
      ],
      "metadata": {
        "id": "wsXpJhr2EHej"
      }
    },
    {
      "cell_type": "code",
      "source": [
        "# Chart - 3 visualization code\n",
        "valid_rating=df_ratings[df_ratings['Book-Rating'] != 0]\n",
        "top10_ratings=valid_rating.groupby('ISBN')['Book-Rating'].count().sort_values(ascending=False).head(10)\n",
        "top10_ratings"
      ],
      "metadata": {
        "id": "t6GMdE67YoAp"
      },
      "execution_count": null,
      "outputs": []
    },
    {
      "cell_type": "markdown",
      "source": [
        "#### Chart - 4"
      ],
      "metadata": {
        "id": "4Of9eVA-YrdM"
      }
    },
    {
      "cell_type": "markdown",
      "source": [
        "### **Users Age distribution**"
      ],
      "metadata": {
        "id": "D6_Wx7Z0IRQd"
      }
    },
    {
      "cell_type": "code",
      "source": [
        "# Chart - 4 visualization code\n",
        "# Checking data distribution from distplot\n",
        "sns.distplot(df_users.Age)\n",
        "plt.title('Age Distribution Plot')"
      ],
      "metadata": {
        "id": "irlUoxc8YrdO"
      },
      "execution_count": null,
      "outputs": []
    },
    {
      "cell_type": "markdown",
      "source": [
        "##### 1. Why did you pick the specific chart?"
      ],
      "metadata": {
        "id": "iky9q4vBYrdO"
      }
    },
    {
      "cell_type": "markdown",
      "source": [
        "* To study the distriution of Age"
      ],
      "metadata": {
        "id": "aJRCwT6DYrdO"
      }
    },
    {
      "cell_type": "markdown",
      "source": [
        "##### 2. What is/are the insight(s) found from the chart?"
      ],
      "metadata": {
        "id": "F6T5p64dYrdO"
      }
    },
    {
      "cell_type": "markdown",
      "source": [
        "* Age is postively skewed it may contain outliers also we have some age as 0 , which might be explicity filled for the users who hadn't reported their age"
      ],
      "metadata": {
        "id": "Xx8WAJvtYrdO"
      }
    },
    {
      "cell_type": "markdown",
      "source": [
        "#### Chart - 5"
      ],
      "metadata": {
        "id": "bamQiAODYuh1"
      }
    },
    {
      "cell_type": "markdown",
      "source": [
        "### **Checking Outliers for the Users Age column**"
      ],
      "metadata": {
        "id": "r2SUthhuJt1k"
      }
    },
    {
      "cell_type": "code",
      "source": [
        "# Chart - 5 visualization code\n",
        "fig = plt.figure(figsize=(6,4))\n",
        "sns.boxplot(x='Age',data=df_users)"
      ],
      "metadata": {
        "id": "TIJwrbroYuh3"
      },
      "execution_count": null,
      "outputs": []
    },
    {
      "cell_type": "markdown",
      "source": [
        "##### 1. Why did you pick the specific chart?"
      ],
      "metadata": {
        "id": "QHF8YVU7Yuh3"
      }
    },
    {
      "cell_type": "markdown",
      "source": [
        "* To check the outliers in the age column"
      ],
      "metadata": {
        "id": "dcxuIMRPYuh3"
      }
    },
    {
      "cell_type": "markdown",
      "source": [
        "##### 2. What is/are the insight(s) found from the chart?"
      ],
      "metadata": {
        "id": "GwzvFGzlYuh3"
      }
    },
    {
      "cell_type": "markdown",
      "source": [
        "* We can notice that there are some outliers for age column"
      ],
      "metadata": {
        "id": "uyqkiB8YYuh3"
      }
    },
    {
      "cell_type": "markdown",
      "source": [
        "#### Chart - 6"
      ],
      "metadata": {
        "id": "OH-pJp9IphqM"
      }
    },
    {
      "cell_type": "code",
      "source": [
        "# Chart - 6 visualization code\n",
        "plt.figure(figsize=(12,6))\n",
        "sns.countplot(y=\"Book-Author\",palette = 'Paired', data=df_books_rating_copy,order=df_books_rating_copy['Book-Author'].value_counts().index[0:20])\n",
        "plt.title(\"Top 20 author with maximum number of rating\")"
      ],
      "metadata": {
        "id": "kuRf4wtuphqN"
      },
      "execution_count": null,
      "outputs": []
    },
    {
      "cell_type": "markdown",
      "source": [
        "##### 1. Why did you pick the specific chart?"
      ],
      "metadata": {
        "id": "bbFf2-_FphqN"
      }
    },
    {
      "cell_type": "markdown",
      "source": [
        "* To study the Authors who got highest number of votes or ratings"
      ],
      "metadata": {
        "id": "loh7H2nzphqN"
      }
    },
    {
      "cell_type": "markdown",
      "source": [
        "##### 2. What is/are the insight(s) found from the chart?"
      ],
      "metadata": {
        "id": "_ouA3fa0phqN"
      }
    },
    {
      "cell_type": "markdown",
      "source": [
        "* As per this dataset Stephen King is the Author who got maximum number of ratings by the users"
      ],
      "metadata": {
        "id": "VECbqPI7phqN"
      }
    },
    {
      "cell_type": "markdown",
      "source": [
        "#### Chart - 7"
      ],
      "metadata": {
        "id": "PIIx-8_IphqN"
      }
    },
    {
      "cell_type": "code",
      "source": [
        "# Chart - 7 visualization code\n",
        "df_books_rating_copy.groupby(['Book-Title'])['Book-Rating'].count().sort_values(ascending=False).head(10).plot(kind='bar')"
      ],
      "metadata": {
        "id": "lqAIGUfyphqO"
      },
      "execution_count": null,
      "outputs": []
    },
    {
      "cell_type": "markdown",
      "source": [
        "##### 1. Why did you pick the specific chart?"
      ],
      "metadata": {
        "id": "t27r6nlMphqO"
      }
    },
    {
      "cell_type": "markdown",
      "source": [
        "* To study the highest rated Books"
      ],
      "metadata": {
        "id": "iv6ro40sphqO"
      }
    },
    {
      "cell_type": "markdown",
      "source": [
        "##### 2. What is/are the insight(s) found from the chart?"
      ],
      "metadata": {
        "id": "r2jJGEOYphqO"
      }
    },
    {
      "cell_type": "markdown",
      "source": [
        "* Top-10 most rated books were essentially novels. Books like The Lovely Bone and Wild Animus were very famous"
      ],
      "metadata": {
        "id": "Po6ZPi4hphqO"
      }
    },
    {
      "cell_type": "markdown",
      "source": [
        "#### Chart - 8"
      ],
      "metadata": {
        "id": "BZR9WyysphqO"
      }
    },
    {
      "cell_type": "code",
      "source": [
        "df_books.columns"
      ],
      "metadata": {
        "id": "WPc9OeFrOibd"
      },
      "execution_count": null,
      "outputs": []
    },
    {
      "cell_type": "code",
      "source": [
        "# Chart - 8 visualization code\n",
        "plt.figure(figsize=(12,6))\n",
        "sns.countplot(y='Publisher',palette = 'Paired', data=df_books,order=df_books['Publisher'].value_counts().index[0:10])\n",
        "plt.title(\"Top 10 'Publisher' with maximum number of rating\")"
      ],
      "metadata": {
        "id": "TdPTWpAVphqO"
      },
      "execution_count": null,
      "outputs": []
    },
    {
      "cell_type": "markdown",
      "source": [
        "##### 1. Why did you pick the specific chart?"
      ],
      "metadata": {
        "id": "jj7wYXLtphqO"
      }
    },
    {
      "cell_type": "markdown",
      "source": [
        "* To study the Publishers who have got most ratings"
      ],
      "metadata": {
        "id": "Ob8u6rCTphqO"
      }
    },
    {
      "cell_type": "markdown",
      "source": [
        "##### 2. What is/are the insight(s) found from the chart?"
      ],
      "metadata": {
        "id": "eZrbJ2SmphqO"
      }
    },
    {
      "cell_type": "markdown",
      "source": [
        "* Most of the books were  pulblised by Hariequin, Silhouette and Pocket"
      ],
      "metadata": {
        "id": "mZtgC_hjphqO"
      }
    },
    {
      "cell_type": "markdown",
      "source": [
        "### 1. Handling Missing Values"
      ],
      "metadata": {
        "id": "xiyOF9F70UgQ"
      }
    },
    {
      "cell_type": "code",
      "source": [
        "# Handling Missing Values & Missing Value Imputation\n",
        "# filling null values of the age column of users data\n",
        "# as age contains outliers so we can use median\n",
        "df_users[\"Age\"].fillna(df_users.Age.median(),inplace=True)"
      ],
      "metadata": {
        "id": "iRsAHk1K0fpS"
      },
      "execution_count": null,
      "outputs": []
    },
    {
      "cell_type": "code",
      "source": [
        "# checking the unique values of year of publication\n",
        "df_books['Year-Of-Publication'].unique()"
      ],
      "metadata": {
        "id": "p-uwvNFuWXj7"
      },
      "execution_count": null,
      "outputs": []
    },
    {
      "cell_type": "markdown",
      "source": [
        "* There are values such as 'DK Publishing Inc' and 'Gallimard' which are in text form \n",
        "\n",
        "* There are values such as 0 for the year-of-publication column\n",
        "\n",
        "\n",
        "\n",
        "\n",
        "\n"
      ],
      "metadata": {
        "id": "RRjkAiOMYPkh"
      }
    },
    {
      "cell_type": "code",
      "source": [
        "# checking the data where the 'Year-Of-Publication' is 'DK Publishing Inc'\n",
        "df_books.loc[df_books['Year-Of-Publication'] == 'DK Publishing Inc',:]"
      ],
      "metadata": {
        "id": "99tOKKeIYzUK"
      },
      "execution_count": null,
      "outputs": []
    },
    {
      "cell_type": "markdown",
      "source": [
        "* We can notice that the Book-Author ,Year-of-Publication , Book-Author and Publisher columns are exchanged with each others and publication column contain image links\n",
        "\n",
        "* we need to find the Book-Author on our own for the book DK Readers: Creating the X-Men, How It All Beg.. and DK Readers: Creating the X-Men, How Comic Book.."
      ],
      "metadata": {
        "id": "4gcJ5Cc1ZQbP"
      }
    },
    {
      "cell_type": "code",
      "source": [
        "#Fixing the wrongly inputed values \n",
        "#ISBN '0789466953'\n",
        "df_books.loc[df_books.ISBN == '0789466953','Year-Of-Publication'] = 2000\n",
        "df_books.loc[df_books.ISBN == '0789466953','Book-Author'] = \"James Buckley\" # this we gathered from the google \n",
        "df_books.loc[df_books.ISBN == '0789466953','Publisher'] = \"DK Publishing Inc\"\n",
        "df_books.loc[df_books.ISBN == '0789466953','Book-Title'] = \"DK Readers: Creating the X-Men, How Comic Books Come to Life (Level 4: Proficient Readers)\"\n",
        "\n",
        "#ISBN '078946697X'\n",
        "df_books.loc[df_books.ISBN == '078946697X','Year-Of-Publication'] = 2000\n",
        "df_books.loc[df_books.ISBN == '078946697X','Book-Author'] = \"Michael Teitelbaum\" # this we gathered from the google\n",
        "df_books.loc[df_books.ISBN == '078946697X','Publisher'] = \"DK Publishing Inc\"\n",
        "df_books.loc[df_books.ISBN == '078946697X','Book-Title'] = \"DK Readers: Creating the X-Men, How It All Began (Level 4: Proficient Readers)\"\n"
      ],
      "metadata": {
        "id": "q9eXWRNpZeuj"
      },
      "execution_count": null,
      "outputs": []
    },
    {
      "cell_type": "code",
      "source": [
        "# checking for the Gallimard\n",
        "df_books.loc[df_books['Year-Of-Publication'] == 'Gallimard',:]"
      ],
      "metadata": {
        "id": "GH32OAsjbBLz"
      },
      "execution_count": null,
      "outputs": []
    },
    {
      "cell_type": "markdown",
      "source": [
        "* Here also we can see that Book-Author, year-of-publication and publishers values are interchnaged and publishers actual name is missing"
      ],
      "metadata": {
        "id": "QEpyxZysbVWX"
      }
    },
    {
      "cell_type": "code",
      "source": [
        "df_books.loc[df_books.ISBN == '2070426769','Year-Of-Publication'] = 2003\n",
        "df_books.loc[df_books.ISBN == '2070426769','Book-Author'] = \"Jean-Marie Gustave Le ClÃ?Â©zio\"\n",
        "df_books.loc[df_books.ISBN == '2070426769','Publisher'] = \"Gallimard\"\n",
        "df_books.loc[df_books.ISBN == '2070426769','Book-Title'] = \"Peuple du ciel, suivi de 'Les Bergers\""
      ],
      "metadata": {
        "id": "XQmxXEkmbj5A"
      },
      "execution_count": null,
      "outputs": []
    },
    {
      "cell_type": "code",
      "source": [
        "# Rechecking the correction made\n",
        "df_books['Year-Of-Publication'].unique()"
      ],
      "metadata": {
        "id": "4WNpS9azb3kr"
      },
      "execution_count": null,
      "outputs": []
    },
    {
      "cell_type": "code",
      "source": [
        "df_books['Year-Of-Publication'] = df_books['Year-Of-Publication'].astype(int)\n",
        "# Replacing invalid values such as year greateer than 2022 and year having 0 with the NaN\n",
        "# so that we can fill those null values with proper measure of centreal tendency\n",
        "\n",
        "df_books.loc[(df_books['Year-Of-Publication'] > 2022) | (df_books['Year-Of-Publication'] == 0),'Year-Of-Publication'] = np.NAN\n",
        "\n",
        "# filling the null values with median values as there are outliers in year-of-publication column\n",
        "df_books['Year-Of-Publication'].fillna(round(df_books['Year-Of-Publication'].median()),inplace=True)"
      ],
      "metadata": {
        "id": "28Hb_pI0cCfs"
      },
      "execution_count": null,
      "outputs": []
    },
    {
      "cell_type": "code",
      "source": [
        "# filling null values for the column Book-Author and Publisher\n",
        "# as we have only very few null values  1 and 2 only so we acn fill those values with other \n",
        "df_books[\"Book-Author\"].fillna(\"other\", inplace = True)  \n",
        "df_books[\"Publisher\"].fillna(\"other\", inplace = True)  "
      ],
      "metadata": {
        "id": "P68iar-kc_lr"
      },
      "execution_count": null,
      "outputs": []
    },
    {
      "cell_type": "markdown",
      "source": [
        "#### What all missing value imputation techniques have you used and why did you use those techniques?"
      ],
      "metadata": {
        "id": "7wuGOrhz0itI"
      }
    },
    {
      "cell_type": "markdown",
      "source": [
        "* Filling the values with median when the column contain outilers "
      ],
      "metadata": {
        "id": "1ixusLtI0pqI"
      }
    },
    {
      "cell_type": "markdown",
      "source": [
        "### 2. Handling Outliers"
      ],
      "metadata": {
        "id": "id1riN9m0vUs"
      }
    },
    {
      "cell_type": "code",
      "source": [
        "# Handling Outliers & Outlier treatments\n",
        "Q3,Q1 = np.percentile(df_users['Age'],[75,25])\n",
        "#Calculating Inter Quartile Range\n",
        "IQR = Q3-Q1\n",
        "#Fixing Boundaries for outliers\n",
        "max = Q3+(1.5*IQR)\n",
        "min = Q1-(1.5*IQR)\n",
        "df_users[\"Age\"] = np.where(df_users[\"Age\"] > max, max, df_users['Age'])\n",
        "df_users[\"Age\"] = np.where(df_users[\"Age\"] < min, min, df_users['Age'])"
      ],
      "metadata": {
        "id": "M6w2CzZf04JK"
      },
      "execution_count": null,
      "outputs": []
    },
    {
      "cell_type": "code",
      "source": [
        "# chceking the outliers again\n",
        "fig = plt.figure(figsize=(6,4))\n",
        "sns.boxplot(x='Age',data=df_users)"
      ],
      "metadata": {
        "id": "RKpU11S3faec"
      },
      "execution_count": null,
      "outputs": []
    },
    {
      "cell_type": "markdown",
      "source": [
        "* We can notice that the Outliers has been handeled smoothly and now we dont have any outliers"
      ],
      "metadata": {
        "id": "Yt2kDmyQfgT5"
      }
    },
    {
      "cell_type": "markdown",
      "source": [
        "##### What all outlier treatment techniques have you used and why did you use those techniques?"
      ],
      "metadata": {
        "id": "578E2V7j08f6"
      }
    },
    {
      "cell_type": "markdown",
      "source": [
        "* We used IQR method to fill the right side otliers with maximum value calculated from IQR and Left side outliers with the minimum value calculated from IQR"
      ],
      "metadata": {
        "id": "uGZz5OrT1HH-"
      }
    },
    {
      "cell_type": "markdown",
      "source": [
        "## **Popularity Based Approach**"
      ],
      "metadata": {
        "id": "_Dvi62FHLnOH"
      }
    },
    {
      "cell_type": "code",
      "source": [
        "def popularity_approach(df,number_of_top_book=50):\n",
        "    # first we have groupy with Book-Ttle and Book-rating as we wou recomend popularity on the these columns  \n",
        "    rating_counts=df.groupby(\"Book-Title\").count()[\"Book-Rating\"].reset_index()\n",
        "    # counting the number of ratings that particular book-title has got\n",
        "    rating_counts.rename(columns={\"Book-Rating\":\"num_of_ratings\"},inplace=True)\n",
        "    \n",
        "    # calculating average rating\n",
        "    rating_avg=df.groupby(\"Book-Title\")[\"Book-Rating\"].mean().reset_index()\n",
        "    rating_avg.rename(columns={\"Book-Rating\":\"average_rating\"},inplace=True)\n",
        "    \n",
        "    df_popular_books=rating_counts.merge(rating_avg,on=\"Book-Title\")\n",
        "\n",
        "    # average rating can be misguiding as they may be baised to number of ratings\n",
        "    # so taking account of number of ratings for particular book-title\n",
        "    # therefore  creating a function for calculating meaningfull average rating\n",
        "    mean_avg_rating=df_popular_books[\"average_rating\"].mean()\n",
        "    total_ratings=df_popular_books[\"num_of_ratings\"].quantile(0.90)\n",
        "    def weighted_rate(df):\n",
        "        number_of_rating_vector=df[\"num_of_ratings\"]\n",
        "        average_rating_vector=df[\"average_rating\"]\n",
        "        \n",
        "        return ((number_of_rating_vector*average_rating_vector) + (total_ratings*mean_avg_rating)) / (number_of_rating_vector+total_ratings)\n",
        "    \n",
        "    \n",
        "    # checking only for books which got more than \n",
        "    df_popular_books=df_popular_books[df_popular_books[\"num_of_ratings\"] >=100]\n",
        "    # calculating popularity of books using weighted_rate\n",
        "    df_popular_books[\"popularity\"]=df_popular_books.apply(weighted_rate,axis=1)\n",
        "    # sorting the books by its popularity in decending order\n",
        "    df_popular_books=df_popular_books.sort_values(by=\"popularity\",ascending=False)\n",
        "    # returning the top n books \n",
        "    return df_popular_books[[\"Book-Title\",\"num_of_ratings\",\"average_rating\",\"popularity\"]].reset_index(drop=True).head(number_of_top_book)"
      ],
      "metadata": {
        "id": "IG6oxvBiLltx"
      },
      "execution_count": null,
      "outputs": []
    },
    {
      "cell_type": "code",
      "source": [
        "# top 20 popular books\n",
        "top_20=pd.DataFrame(popularity_approach(df_books_rating_copy,20))\n",
        "top_20"
      ],
      "metadata": {
        "id": "MxCt33qfW8b5"
      },
      "execution_count": null,
      "outputs": []
    },
    {
      "cell_type": "markdown",
      "source": [
        "## **Collaborative Filtering Approaches**\n",
        "\n",
        "In Collaborative Filtering we make predictions of the taste or the intrests of the user based based on the other similar users behaviour (which is called collaborative) .The simple understanding is that if a person P1 have similar opinion with person P2 , then if person P1 is reading Harry Potter books then person P2 may also read Harry Potter books\n",
        "\n",
        "Collaborative Filtering has mainly two implimentaion strategies\n",
        "*   Model Based\n",
        "*   Memory Based\n",
        "\n",
        "we will use following approaches\n",
        "*  User_based Collaborative Filtering and \n",
        "*  Item_based Collaborative Filtering\n",
        "\n",
        "* Content Based Filtering\n",
        "\n",
        "\n",
        "*  Model based Collaborative Filtering Approach\n",
        "  * Singular value decomposition(SVD)\n",
        "  * Non-Negetive Matrix Factorisation(NMF)"
      ],
      "metadata": {
        "id": "V9tX8VhwZmfh"
      }
    },
    {
      "cell_type": "markdown",
      "source": [
        "### **User Based Collaborative Filtering**\n",
        "\n",
        "* In this technique we try to predict on basis of what user may like based on the ratings that they had given to the items"
      ],
      "metadata": {
        "id": "pR3HE03Xgv0C"
      }
    },
    {
      "cell_type": "code",
      "source": [
        "# Drop users who have given less number of votings \n",
        "# we will drop the users where the number of votes are less than 100\n",
        "new_df=df_books_rating_copy[df_books_rating_copy['User-ID'].map(df_books_rating_copy['User-ID'].value_counts()) > 100] \n",
        "\n",
        "# creating a pivot tables consisting user realted information\n",
        "users_info=new_df.pivot_table(index=[\"User-ID\"],columns=[\"Book-Title\"],values=\"Book-Rating\")\n",
        "users_info.fillna(0,inplace=True)\n"
      ],
      "metadata": {
        "id": "_DSi-vj_bbx5"
      },
      "execution_count": null,
      "outputs": []
    },
    {
      "cell_type": "code",
      "source": [
        "users_info.head(3)"
      ],
      "metadata": {
        "id": "HmJT7y0Iimvy"
      },
      "execution_count": null,
      "outputs": []
    },
    {
      "cell_type": "code",
      "source": [
        "def choice_of_users(id):\n",
        "    \n",
        "    user_favourite=new_df[new_df[\"User-ID\"]==id].sort_values([\"Book-Rating\"],ascending=False)[0:10]\n",
        "    return user_favourite\n",
        "\n",
        "def user_based_collaborative(new_df,user_id):\n",
        "    if user_id not in new_df[\"User-ID\"].values:\n",
        "        print(\"USER NOT FOUND\")\n",
        "        \n",
        "        \n",
        "    else:\n",
        "        user_index=np.where(users_info.index==user_id)[0][0]\n",
        "        similar=cosine_similarity(users_info)\n",
        "        similar_users_list=list(enumerate(similar[user_index]))\n",
        "        similar_users_list = sorted(similar_users_list,key = lambda x:x[1],reverse=True)[0:10]\n",
        "    \n",
        "        record_of_users=[]\n",
        "    \n",
        "        for ind in similar_users_list:\n",
        "                data=df_books_rating_copy[df_books_rating_copy[\"User-ID\"]==users_info.index[ind[0]]]\n",
        "                record_of_users.extend(list(data.drop_duplicates(\"User-ID\")[\"User-ID\"].values))\n",
        "        \n",
        "    return record_of_users\n",
        "\n",
        "def common(df,users_list,user_id):\n",
        "    temp1=new_df[df[\"User-ID\"]==user_id]\n",
        "    suggested_books=[]\n",
        "    users_list=list(users_list)\n",
        "    for id in users_list:\n",
        "        temp2=df[(df[\"User-ID\"]==id)]\n",
        "        all_books=temp2.loc[~temp2[\"Book-Title\"].isin(temp1[\"Book-Title\"]),:]\n",
        "        all_books=all_books.sort_values([\"Book-Rating\"],ascending=False)[0:10]\n",
        "        suggested_books.extend(all_books[\"Book-Title\"].values)\n",
        "        \n",
        "    return suggested_books[0:10]\n",
        "\n",
        "\n",
        "\n"
      ],
      "metadata": {
        "id": "m_aAVve9iwCe"
      },
      "execution_count": null,
      "outputs": []
    },
    {
      "cell_type": "code",
      "source": [
        "# taking any random user_id\n",
        "random_user_id=random.choice(new_df[\"User-ID\"].values)\n",
        "# showing users choice based on history\n",
        "user_choice=pd.DataFrame(choice_of_users(random_user_id))\n",
        "# subseting users favourite from users choice\n",
        "user_favorite=choice_of_users(random_user_id)\n",
        "n=len(user_choice[\"Book-Title\"].values)\n",
        "print(f\"USER: {random_user_id} \")"
      ],
      "metadata": {
        "id": "pBuNdD7Kz6Uy"
      },
      "execution_count": null,
      "outputs": []
    },
    {
      "cell_type": "code",
      "source": [
        "user_favorite"
      ],
      "metadata": {
        "id": "YKT8FTXL7MFj"
      },
      "execution_count": null,
      "outputs": []
    },
    {
      "cell_type": "code",
      "source": [
        "# getting user based data for particular random user id\n",
        "user_based=user_based_collaborative(new_df,random_user_id)\n",
        "# getting recomended books for that particular random user id\n",
        "book_suggesions_user=common(new_df,user_based,random_user_id)\n",
        "# ceating a dataframe to store the results\n",
        "book_suggesions_user=pd.DataFrame(book_suggesions_user,columns=[\"Book-Title\"])\n",
        "book_suggesions_user"
      ],
      "metadata": {
        "id": "t-Ad5Iwj8omW"
      },
      "execution_count": null,
      "outputs": []
    },
    {
      "cell_type": "markdown",
      "source": [
        "### **Item Based Collaborative Filtering**"
      ],
      "metadata": {
        "id": "Y5JVf8V6-EY3"
      }
    },
    {
      "cell_type": "code",
      "source": [
        "def item_based_approach(data,querry_bookTitle,number_of_suggesions):\n",
        "    querry_bookTitle=str(querry_bookTitle)\n",
        "    \n",
        "    if querry_bookTitle in data[\"Book-Title\"].values:\n",
        "        count_rating=pd.DataFrame(data[\"Book-Title\"].value_counts())\n",
        "        # seperating rare books\n",
        "        rare=count_rating[count_rating[\"Book-Title\"]<=100].index\n",
        "        # defining common books \n",
        "        # as those books which are not rare are common books\n",
        "        common_b=data[~data[\"Book-Title\"].isin(rare)]\n",
        "        \n",
        "        # If the qerry book title is very rare then we would suggest the most common books\n",
        "        if querry_bookTitle in rare:\n",
        "            # storing most common books \n",
        "            ran5=pd.Series(common_b[\"Book-Title\"].unique()).sample(5).values\n",
        "            print(\"No hard recomendation for this book can be suggested\")\n",
        "            print(\"but you can try with most common books \")\n",
        "            # suggesting randomly 5 books from set of common books\n",
        "            print(f\"1st {ran5[0]}\")\n",
        "            print(f\"2nd {ran5[1]}\")\n",
        "            print(f\"3rd {ran5[2]}\")\n",
        "            print(f\"4th {ran5[3]}\")\n",
        "            print(f\"5th {ran5[4]}\")\n",
        "        else:\n",
        "            common_b_pivot=common_b.pivot_table(index=[\"User-ID\"],columns=[\"Book-Title\"],values=\"Book-Rating\")\n",
        "            # defining book-title as t\n",
        "            t=common_b_pivot[querry_bookTitle]\n",
        "            # making suggesions based on the correlation\n",
        "            suggesion_df=pd.DataFrame(common_b_pivot.corrwith(t).sort_values(ascending=False)).reset_index(drop=False)\n",
        "            \n",
        "            if querry_bookTitle in [ele for ele in suggesion_df[\"Book-Title\"]]:\n",
        "                suggesion_df=suggesion_df.drop(suggesion_df[suggesion_df[\"Book-Title\"]==querry_bookTitle].index[0])\n",
        "                \n",
        "            less_rating=[]\n",
        "            for ele in suggesion_df[\"Book-Title\"]:\n",
        "                if data[data[\"Book-Title\"]==ele][\"Book-Rating\"].mean() < 5:\n",
        "                    less_rating.append(ele)\n",
        "            if suggesion_df.shape[0] - len(less_rating) > 5:\n",
        "                suggesion_df=suggesion_df[~suggesion_df[\"Book-Title\"].isin(less_rating)]\n",
        "                \n",
        "            suggesion_df=suggesion_df[0:number_of_suggesions]\n",
        "            suggesion_df.columns=[\"Book-Title\",\"Correlation\"]\n",
        "\n",
        "            return suggesion_df\n",
        "            \n",
        "    else:\n",
        "        print(\"No Results Found  !!!\")"
      ],
      "metadata": {
        "id": "f1-nc-Sx-M4W"
      },
      "execution_count": null,
      "outputs": []
    },
    {
      "cell_type": "code",
      "source": [
        "# getting top 10 suggesions from item-based approach\n",
        "item_based_approach(df_books_rating_copy,\"The Da Vinci Code\",10)"
      ],
      "metadata": {
        "id": "PajxtNes_nPf"
      },
      "execution_count": null,
      "outputs": []
    },
    {
      "cell_type": "code",
      "source": [
        "# when the book title is not present\n",
        "item_based_approach(df_books_rating_copy,\"machine learning\",10)"
      ],
      "metadata": {
        "id": "s1rafgfPFUmJ"
      },
      "execution_count": null,
      "outputs": []
    },
    {
      "cell_type": "markdown",
      "source": [
        "## **Content based**"
      ],
      "metadata": {
        "id": "F9SghLjTQIZq"
      }
    },
    {
      "cell_type": "code",
      "source": [
        "def content_based_approach(data,querry_bookTitle,number_of_books):\n",
        "    querry_bookTitle=str(querry_bookTitle)\n",
        "    \n",
        "    if querry_bookTitle in data[\"Book-Title\"].values:\n",
        "        count_rating=pd.DataFrame(data[\"Book-Title\"].value_counts())\n",
        "        # seperating rare books\n",
        "        rare=count_rating[count_rating[\"Book-Title\"]<=100].index\n",
        "        # defining common books \n",
        "        # as those books which are not rare are common books\n",
        "        common_b=data[~data[\"Book-Title\"].isin(rare)]\n",
        "        \n",
        "        # If the qerry book title is very rare then we would suggest the most common books\n",
        "        if querry_bookTitle in rare:\n",
        "            # storing most common books \n",
        "            ran5=pd.Series(common_b[\"Book-Title\"].unique()).sample(5).values\n",
        "            print(\"No hard recomendation for this book can be suggested\")\n",
        "            print(\"but you can try with most common books \")\n",
        "            # suggesting randomly 5 books from set of common books\n",
        "            print(f\"1st {ran5[0]}\")\n",
        "            print(f\"2nd {ran5[1]}\")\n",
        "            print(f\"3rd {ran5[2]}\")\n",
        "            print(f\"4th {ran5[3]}\")\n",
        "            print(f\"5th {ran5[4]}\")\n",
        "        else:\n",
        "            #first we drop the dulplicates Book Title\n",
        "            common_b=common_b.drop_duplicates(subset=[\"Book-Title\"])\n",
        "            common_b.reset_index(inplace=True)\n",
        "            # setting the index to length of unique common books\n",
        "            common_b[\"index\"]=[ele for ele in range(common_b.shape[0])]\n",
        "            # taking content based book-title , book-Author and publisher\n",
        "            list_of_targets=[\"Book-Title\",\"Book-Author\",\"Publisher\"]\n",
        "            common_b[\"all_features\"] = [\" \".join(common_b[list_of_targets].iloc[ele,].values) for ele in range(common_b[list_of_targets].shape[0])]\n",
        "            # transfforming into vectorized form\n",
        "            vectorizer=CountVectorizer()\n",
        "            common_booksVector=vectorizer.fit_transform(common_b[\"all_features\"])\n",
        "            # finding similarity based on book-title , book-Author and publisher\n",
        "            similar=cosine_similarity(common_booksVector)\n",
        "            index=common_b[common_b[\"Book-Title\"]==querry_bookTitle][\"index\"].values[0]\n",
        "            similar_books_list=list(enumerate(similar[index]))\n",
        "            similar_books_sorted=sorted(similar_books_list,key=lambda ele:ele[1],reverse=True)[1:number_of_books+1]\n",
        "            suggested_books=[]\n",
        "            for ele in range(len(similar_books_sorted)):\n",
        "                \n",
        "                suggested_books.append(common_b[common_b[\"index\"]==similar_books_sorted[ele][0]][\"Book-Title\"].item())\n",
        "            return suggested_books\n",
        "    else:\n",
        "        print(\" COULD NOT FIND THE CONTENT\") "
      ],
      "metadata": {
        "id": "jdf1KV6QQH7q"
      },
      "execution_count": null,
      "outputs": []
    },
    {
      "cell_type": "code",
      "source": [
        "content_based_approach(df_books_rating_copy,'The Da Vinci Code',10)"
      ],
      "metadata": {
        "id": "D66kUl4TVazU"
      },
      "execution_count": null,
      "outputs": []
    },
    {
      "cell_type": "markdown",
      "source": [
        "## ***7. Model Based Approach***"
      ],
      "metadata": {
        "id": "VfCC591jGiD4"
      }
    },
    {
      "cell_type": "markdown",
      "source": [
        "**Singular Value Decomposition (SVD)**, is a popular method in field of Data Science and Machine Learning .It is a classical method from the Linear Algebra concept. It is popular beacuse of its properties and its use in Recomendation System. We can use this in recomending Books, movies etc.\n",
        "\n",
        "SVD is a method from linear algebra that has been generally used as a dimensionality reduction technique in ML problems. It is amtrix Factorisation technique which tries to reduce the number of feature or attributes by reducing the sapce dimension from N dimension to I dimension.SVD is used as a collaborative filtering technique in recomendation technique domain. It consist of a matrix structure where the rows define the users and columns defines the item.\n",
        "\n",
        "\n",
        "**Non- Negetive Matrix Factorisation(NMF) :** Our goal in NMF is to approximate the users-item V matrix by the dot product of two arrays W and H. Dimensions of the arrays are defined by dimensions of V and number of components we set to the algorithm. If V has n rows and m columns and we want to decompose it to k components, then W has n rows, and k columns and H has k rows and m columns.This is actually matrix factorization part of the algorithm. The Non-negative part refers to V, W, and H — all the values have to be equal or greater than zero, i.e., non-negative.\n",
        "\n",
        "![NMF.png](data:image/png;base64,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)\n",
        "\n",
        "\n",
        "Source:[Click here](https://www.google.com/url?sa=i&url=https%3A%2F%2Fpredictivehacks.com%2Fnon-negative-matrix-factorization-for-dimensionality-reduction%2F&psig=AOvVaw1hRiKieTP6oX2TMPPRoxiz&ust=1671441917992000&source=images&cd=vfe&ved=0CBAQjRxqFwoTCLDK4cDsgvwCFQAAAAAdAAAAABAE)"
      ],
      "metadata": {
        "id": "UVnW_HCfdTvH"
      }
    },
    {
      "cell_type": "markdown",
      "source": [
        "### ML Model - 1"
      ],
      "metadata": {
        "id": "OB4l2ZhMeS1U"
      }
    },
    {
      "cell_type": "code",
      "source": [
        "# cosidering valid ratings only\n",
        "df_ratings=df_ratings[df_ratings['Book-Rating'] != 0]\n",
        "df_merge=pd.merge(df_users, df_ratings, on=\"User-ID\")\n",
        "df_merge=pd.merge(df_merge,df_books, on=\"ISBN\")"
      ],
      "metadata": {
        "id": "y_y9D_0hi1a-"
      },
      "execution_count": null,
      "outputs": []
    },
    {
      "cell_type": "code",
      "source": [
        "df_merge.info()"
      ],
      "metadata": {
        "id": "tvIIOLcZj0iD"
      },
      "execution_count": null,
      "outputs": []
    },
    {
      "cell_type": "code",
      "source": [
        "df_merge.drop(['Image-URL-M','Image-URL-S','Image-URL-L'],axis=1,inplace=True)"
      ],
      "metadata": {
        "id": "4GYYnHRxkJU-"
      },
      "execution_count": null,
      "outputs": []
    },
    {
      "cell_type": "code",
      "source": [
        "df_merge.isnull().sum()"
      ],
      "metadata": {
        "id": "-5AX69IFj6GH"
      },
      "execution_count": null,
      "outputs": []
    },
    {
      "cell_type": "code",
      "source": [
        "# ML Model - 1 Implementation\n",
        "reader = Reader(rating_scale=(1, 10))\n",
        "data = Dataset.load_from_df(df_merge[['User-ID', 'ISBN', 'Book-Rating']], reader)\n",
        "# Fit the Algorithm\n",
        "svd_default = SVD()\n",
        "results_svd = cross_validate(svd_default, data, cv=3)\n",
        "pd.DataFrame(results_svd).mean()\n",
        "# Predict on the model"
      ],
      "metadata": {
        "id": "7ebyywQieS1U"
      },
      "execution_count": null,
      "outputs": []
    },
    {
      "cell_type": "code",
      "source": [
        "#implimentation of NMF\n",
        "nmf = NMF()\n",
        "results_nmf = cross_validate(nmf, data, cv=3)\n",
        "pd.DataFrame(results_nmf).mean()"
      ],
      "metadata": {
        "id": "RCAhiC8Wlvku"
      },
      "execution_count": null,
      "outputs": []
    },
    {
      "cell_type": "markdown",
      "source": [
        "#### 2. Cross- Validation & Hyperparameter Tuning"
      ],
      "metadata": {
        "id": "4qY1EAkEfxKe"
      }
    },
    {
      "cell_type": "markdown",
      "source": [
        "* **As SVD model is working good with deafault parameters so, we would try hypertunning on SVD model only**"
      ],
      "metadata": {
        "id": "1NZiGTC4pQDg"
      }
    },
    {
      "cell_type": "markdown",
      "source": [
        "Hyperparameter tunning is a process where we tune our model that is we try to find the odel parameters which would give best results \n",
        "* Here we have use GridSearchCV which check the results for all possible combination from the parameter grid\n",
        "\n",
        "* we will try to find the model parameters \n",
        "            'n_factors'- number of factors\n",
        "            'n_epochs'- number of epochs i.e number of iteration of the SVD procedure \n",
        "            'lr_all'- learning rate\n",
        "            'reg_all- the regularisation term for all parameters"
      ],
      "metadata": {
        "id": "grAq6598aNT1"
      }
    },
    {
      "cell_type": "code",
      "source": [
        "# ML Model - 1 Implementation with hyperparameter optimization techniques (i.e., GridSearch CV, RandomSearch CV, Bayesian Optimization etc.)\n",
        "param_grid = {'n_factors': [60,50],\n",
        "              'n_epochs': [6, 16],\n",
        "              'lr_all': [0.01, 0.001],\n",
        "              'reg_all': [0.1, 0.9]}\n",
        "\n",
        "opt_svd = GridSearchCV(SVD, param_grid, measures=['rmse', 'mae'], cv=3)\n",
        "opt_svd.fit(data)\n",
        "\n",
        "print(opt_svd.best_score['rmse'])\n",
        "print(opt_svd.best_params['rmse'])"
      ],
      "metadata": {
        "id": "Dy61ujd6fxKe"
      },
      "execution_count": null,
      "outputs": []
    },
    {
      "cell_type": "markdown",
      "source": [
        "**Hypertunning SVD model**"
      ],
      "metadata": {
        "id": "UPXx6QmXoqVj"
      }
    },
    {
      "cell_type": "code",
      "source": [
        "# Spliting the dataset in train teat and predict\n",
        "train, test = train_test_split(data, test_size=0.2)\n",
        "best_params=opt_svd.best_params['rmse']\n",
        "optimized_svd = SVD(n_factors=best_params['n_factors'], n_epochs=best_params['n_epochs'], lr_all=best_params['lr_all'], reg_all=best_params['reg_all'])\n",
        "optimized_svd.fit(train)\n",
        "pred = optimized_svd.test(test)"
      ],
      "metadata": {
        "id": "fChAyKVcnGf6"
      },
      "execution_count": null,
      "outputs": []
    },
    {
      "cell_type": "code",
      "source": [
        "results_svd = cross_validate(optimized_svd, data, cv=3)\n",
        "pd.DataFrame(results_svd).mean()"
      ],
      "metadata": {
        "id": "lkU50c7rp6cF"
      },
      "execution_count": null,
      "outputs": []
    },
    {
      "cell_type": "code",
      "source": [
        "# To see predictions\n",
        "df_pred = pd.DataFrame(pred, columns=['user_id', 'isbn', 'actual_rating', 'pred_rating', 'details'])\n",
        "df_pred['impossible'] = df_pred['details'].apply(lambda x: x['was_impossible'])\n",
        "df_pred['pred_rating_round'] = df_pred['pred_rating'].round()\n",
        "df_pred['abs_err'] = abs(df_pred['pred_rating'] - df_pred['actual_rating'])\n",
        "df_pred.drop(['details'], axis=1, inplace=True)\n",
        "df_pred.sample(10)"
      ],
      "metadata": {
        "id": "3QQgOU4-ozMZ"
      },
      "execution_count": null,
      "outputs": []
    },
    {
      "cell_type": "markdown",
      "source": [
        "##### Which hyperparameter optimization technique have you used and why?"
      ],
      "metadata": {
        "id": "PiV4Ypx8fxKe"
      }
    },
    {
      "cell_type": "markdown",
      "source": [
        "*  GridSearchCV , As we have to check results for all possible combination of parameters from the param grid"
      ],
      "metadata": {
        "id": "negyGRa7fxKf"
      }
    },
    {
      "cell_type": "markdown",
      "source": [
        "##### Have you seen any improvement? Note down the improvement with updates Evaluation metric Score Chart."
      ],
      "metadata": {
        "id": "TfvqoZmBfxKf"
      }
    },
    {
      "cell_type": "markdown",
      "source": [
        "* yes , the test_rmse has been reduced by 0.01"
      ],
      "metadata": {
        "id": "OaLui8CcfxKf"
      }
    },
    {
      "cell_type": "markdown",
      "source": [
        "# **Conclusion**"
      ],
      "metadata": {
        "id": "gCX9965dhzqZ"
      }
    },
    {
      "cell_type": "markdown",
      "source": [
        "**For EDA part** \n",
        "* Top-10 most rated books were essentially novels. Books like The Lovely Bone and Wild Animus were very famous \n",
        "\n",
        "* Most of the books were  pulblised by Hariequin, Silhouette and Pocket\n",
        "\n",
        "* As per this dataset Stephen King is the Author who got maximum number of ratings by the users\n",
        "\n",
        "* Based on this dataset Agatha Christie released maximums books .Followed by William Shakespeare and Stephen King are 2nd and 3rd most Authors who have relased maximum books.\n",
        "* Most commom rating given by the user is 8\n",
        "\n",
        "**Modelling part**\n",
        "\n",
        "* SVD model works better than NMF model as it has lower RMSE and MAE score."
      ],
      "metadata": {
        "id": "Fjb1IsQkh3yE"
      }
    },
    {
      "cell_type": "markdown",
      "source": [
        "### ***Hurrah! You have successfully completed your Machine Learning Capstone Project !!!***"
      ],
      "metadata": {
        "id": "gIfDvo9L0UH2"
      }
    }
  ]
}